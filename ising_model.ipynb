{
 "cells": [
  {
   "cell_type": "markdown",
   "metadata": {},
   "source": [
    "# 2D Ising Experiments\n",
    "The following implements the two-dimensional Ising model with the following parameters: \n",
    "- 50x50 lattice\n",
    "- Initial temperature: 0\n",
    "- Interaction strength J: 1\n",
    "- External magnetic field B: 0 "
   ]
  },
  {
   "cell_type": "markdown",
   "metadata": {},
   "source": [
    "## Equilibration and Correlation Time\n",
    "Before we can measure any quantities of interest, we need to determine two things:\n",
    "- Equilibration time: how many sweeps of our MC algorithm are required to come to equilibrium. \n",
    "- Correlation time: how many sweeps of our MC algorithm should be made between measurements after equilibration. \n",
    "\n",
    "To determine equilibration time, we begin by running our simulation for an arbitrary number of sweeps and observing the behavior of the magnetization and energy values per spin. \n",
    "\n",
    "In our first experiment, we run our simulation for 10,000, and then 250, steps per site (hereafter referred to as sweeps). In this simulation, we initialize the lattice to the spin-up ground state corresponding to T=0 and run the simulation at T=5. We then plot the magnetization and energy values per spin.\n"
   ]
  },
  {
   "cell_type": "markdown",
   "metadata": {},
   "source": [
    "<img src=\"figures/50x50_em_v_spin_10000.png\" style=\"display:inline;margin:1px;width: 470px;\"/>\n",
    "<img src=\"figures/50x50_em_v_spin_250.png\" style=\"display:inline;margin:1px;width: 470px;\"/>"
   ]
  },
  {
   "cell_type": "markdown",
   "metadata": {},
   "source": [
    "The takeaway here is that from T=0 to T=5, the system appears to come to equilibrium on the order of 50 sweeps. In the second experiment, we initialize our lattice to a random configuration (corresponding to infinite T) and cool the system down to T =.001. Again, we plot the magnetization and energy per spin as measured after every sweep. "
   ]
  },
  {
   "cell_type": "markdown",
   "metadata": {},
   "source": [
    "<img src=\"figures/50x50_em_v_spin_1000.png\" style=\"display:inline;margin:1px;width: 470px;\"/>\n",
    "<img src=\"figures/50x50_em_v_spin_1000_2.png\" style=\"display:inline;margin:1px;width: 470px;\"/>\n",
    "<img src=\"figures/50x50_em_v_spin_1000_3.png\" style=\"width: 470px;\"/>"
   ]
  },
  {
   "cell_type": "markdown",
   "metadata": {},
   "source": [
    "As we can see from these trials, each of which was performed over 1000 sweeps, the system appears to come to equilibrium after approximately 400 sweeps - although one anomalous trial had an equilibration time of 1000 sweeps. A generous estimation of the time required for equilibration is then on the order of about 1000 sweeps. That is, we expect the vast majority of trials to come to equilibrium after this time. "
   ]
  },
  {
   "cell_type": "markdown",
   "metadata": {},
   "source": [
    "Next, we need to determine a correlation length. Once the system has come to equilibrium, approximately how long do we need to wait between measurements."
   ]
  },
  {
   "cell_type": "markdown",
   "metadata": {},
   "source": [
    "To evaluate the correlation length, we will attempt to plot the autocorrelation function for magnetization and energy. The autocorrelation function is useful to evaluate because we can infer the correlation length using the relationship\n",
    "\n",
    "$$\\chi(t) \\propto e^{-t/\\tau}$$\n",
    "\n",
    "We will evaluate the magnetization autocorrelation function for an initial configuration starting at T=0 and heated to T=2.4. This final temperature choice is significant because it is near the critical temperature and, therefore, we expect the correlation time to approach its maximum near this temperature. The correlation time away from this temperature point will be shorter. "
   ]
  },
  {
   "cell_type": "markdown",
   "metadata": {},
   "source": [
    "<img src=\"figures/50x50_mag_autocorrelation_800_100000.png\" style=\"width: 600px;\"/>"
   ]
  },
  {
   "cell_type": "markdown",
   "metadata": {},
   "source": [
    "From this graph, we can see that the correlation time $\\tau$ is roughly 300 sweeps. Therefore, when measuring magnetization after our system has come to equilibrium, we should attempt to sample roughly every $2\\tau = 600$ sweeps.   \n",
    "\n",
    "Below are the results of running the simulation on a $50 \\times 50$ lattice from $T=0$ to $T=5$ in $.1$ increments. We plot the magnetization per spin, specific heat, and magnetic susceptibility as a function of temperature. For each temperature point, 1000 equilibration sweeps were performed and measurements were averaged over 1000 sweeps (slightly longer than the indicated correlation time)."
   ]
  },
  {
   "cell_type": "markdown",
   "metadata": {},
   "source": [
    "<img src=\"figures/50x50mag_per_spin.png\" style=\"display:inline;margin:1px;width: 470px;\"/>\n",
    "<img src=\"figures/50x50sh_v_temp_2.png\" style=\"display:inline;margin:1px;width: 470px;\"/>\n",
    "<img src=\"figures/50x50s_v_temp_2.png\" style=\"width: 550px;\"/>"
   ]
  },
  {
   "cell_type": "markdown",
   "metadata": {},
   "source": [
    "With regard to the deviation in the magnetization graph around the critical temperature, I assume that this is a result of taking the measurements over too short of a time. We expect the correlation time to increase around the critical temperature and therefore the measurements taken may not have been taken properly to reflect the true average. However, the trend is still visible and this problem does not seem to affect the other graphs as drastically."
   ]
  },
  {
   "cell_type": "markdown",
   "metadata": {},
   "source": [
    "## Implementation\n",
    "The Python implementation used to generate these graphs is provided below with comments explaining parameters. "
   ]
  },
  {
   "cell_type": "code",
   "execution_count": 35,
   "metadata": {
    "collapsed": true
   },
   "outputs": [],
   "source": [
    "%matplotlib inline\n",
    "from random import choice\n",
    "from numpy import exp, power\n",
    "from numpy.random import randint, rand\n",
    "from matplotlib import pyplot, colors\n",
    "from functools import reduce\n",
    "from scipy.integrate import simps\n",
    "\n",
    "class Ising2D(object):\n",
    "    def __init__(self, rows, columns, init_T = 0, J=1):\n",
    "        self.rows = rows\n",
    "        self.columns = columns\n",
    "        self.lat_size = rows*columns\n",
    "        self.J = J\n",
    "        self.initialize(init_T)\n",
    "        \n",
    "    def initialize(self, init_T = 0):\n",
    "        self.sweep_num = 1 # initialize sweep count\n",
    "        # If T = 0, align all spins to ground state\n",
    "        if init_T:\n",
    "            # Assume T large enough to produce random spin state\n",
    "            self.lattice = [[choice([-1,1]) for i in range(self.columns)] for j in range(self.rows)]\n",
    "        else:\n",
    "            # align all spins along +z\n",
    "            self.lattice = [[1 for i in range(self.columns)] for j in range(self.rows)]\n",
    "    \n",
    "    def simulate(self, num_sweeps, T, filename=None):\n",
    "        self.mag_vals = []\n",
    "        self.energy_vals = []\n",
    "        if T == 0:\n",
    "            T = .001\n",
    "            \n",
    "        # Calculate initial magnetization and energy values\n",
    "        self.mag = self.calc_magnetization()    # initial magnetization\n",
    "        self.energy =  self.calc_energy() # initial energy\n",
    "        \n",
    "        # mag_vals holds the magnetization per spin, calculated every sweep\n",
    "        # energy_vals holds the total energy, calculated every sweep\n",
    "        self.mag_vals.append(self.mag/self.lat_size)\n",
    "        self.energy_vals.append(self.energy)\n",
    "\n",
    "        for i in range(num_sweeps):\n",
    "            self.sweep(T)\n",
    "            \n",
    "    def calc_energy(self):\n",
    "        # Calculate the instantaneous energy of the lattice\n",
    "        # To sum over nearest neighbors and avoid double-counting,\n",
    "        # we sum over all sites and only calc east and south neighbors.\n",
    "        energy = 0\n",
    "        for i in range(self.rows):\n",
    "            for j in range(self.columns):\n",
    "                energy += -self.J*self.lattice[i][j]*(self.lattice[i][(j+1)%self.columns] + self.lattice[(i+1)%self.rows][j])\n",
    "        return float(energy)\n",
    "\n",
    "    def calc_magnetization(self):\n",
    "        # Calculate the instantaneous magnetization of the lattice\n",
    "        mag = 0\n",
    "        for row in self.lattice:\n",
    "            for spin in row:\n",
    "                mag += spin\n",
    "        return float(mag)\n",
    "    \n",
    "    def sweep(self, T):\n",
    "        # Perform as many steps as there are lattice sites\n",
    "        for step in range(self.lat_size):\n",
    "            # Select a new state by randomly choosing a spin to flip\n",
    "            chosen_site_row = randint(0, self.rows)\n",
    "            chosen_site_col = randint(0, self.columns)\n",
    "\n",
    "            # Calculate the difference in energy between new and old state\n",
    "            # Using the summation trick of Newman, Barkema (equation 3.10)\n",
    "            delta_E = self.calc_delta_E(chosen_site_row, chosen_site_col)\n",
    "\n",
    "            if not ((delta_E > 0) and (rand() >= exp(-(1.0/T)*delta_E*self.J))):\n",
    "                self.lattice[chosen_site_row][chosen_site_col] = self.lattice[chosen_site_row][chosen_site_col]*(-1)\n",
    "                self.energy = self.energy + delta_E\n",
    "                self.mag = float(self.mag) + 2*float(self.lattice[chosen_site_row][chosen_site_col])\n",
    "\n",
    "        self.energy_vals.append(self.energy)\n",
    "        self.mag_vals.append(self.mag/self.lat_size)\n",
    "        self.sweep_num += 1\n",
    "        \n",
    "    def calc_delta_E(self, row, col):\n",
    "        # neighbor_sum is sum of nearest neighbor spin values\n",
    "        neighbor_sum = self.lattice[(row-1)%self.rows][col] # north neighbor\n",
    "        neighbor_sum += self.lattice[(row+1)%self.rows][col] # south neighbor\n",
    "        neighbor_sum += self.lattice[row][(col-1)%self.columns] # west neighbor\n",
    "        neighbor_sum += self.lattice[row][(col+1)%self.columns] # east neighbor\n",
    "        return 2*self.J*self.lattice[row][col]*neighbor_sum\n",
    "    \n",
    "    def plot_mag_energy_per_site(self):\n",
    "        pyplot.plot([i for i in range(len(self.energy_vals))],[energy/self.lat_size for energy in self.energy_vals], 'r') # plot energy per site\n",
    "        pyplot.plot([i for i in range(len(self.mag_vals))],self.mag_vals, 'b') # plot magnetization per site\n",
    "        pyplot.ylabel('Energy (red) and magnetization (blue) per site')\n",
    "        pyplot.xlabel('Steps per site (i.e. sweeps)')\n",
    "        pyplot.show()\n",
    "        \n",
    "    def autocorrelate_mag(self, sweeps):\n",
    "        avg_mag = reduce((lambda x,y: x+y), self.mag_vals)/len(self.mag_vals)\n",
    "        avg_mag_sq = power(avg_mag, 2)\n",
    "\n",
    "        chi_0 = self.autocorrelate_int(avg_mag_sq, 0) # Initial autocorrelation function chi(0)\n",
    "        x = [i for i in range(sweeps)]\n",
    "        y = [self.autocorrelate_int(avg_mag_sq, i, norm=chi_0) for i in range(sweeps)]\n",
    "        pyplot.plot(x, y, 'b')\n",
    "        pyplot.ylabel('Magnetization autocorrelation $\\chi(t)$')\n",
    "        pyplot.xlabel('Steps per site')\n",
    "        pyplot.show()\n",
    "        \n",
    "    def autocorrelate_int(self,avg_mag_sq, t, norm = 1):\n",
    "        # Performs autocorrelation integral at sweep t\n",
    "        t_prime = [i for i in range(self.sweep_num - t)]\n",
    "        y_samples = [((self.mag_vals[i]*self.mag_vals[i+t]) - avg_mag_sq)/norm for i in t_prime]\n",
    "        return simps(y_samples, t_prime)\n"
   ]
  },
  {
   "cell_type": "markdown",
   "metadata": {},
   "source": [
    "Making use of the Ising2D involves first creating an instance where the size and initial configuration are specified. Below, we create a 50x50 lattice with an initial temperature of 0 - indicating the initial configuration will be entirely spin-up. Any non-zero temperature will be interpreted as an indication to randomize the initial state."
   ]
  },
  {
   "cell_type": "code",
   "execution_count": 36,
   "metadata": {
    "collapsed": true
   },
   "outputs": [],
   "source": [
    "lat = Ising2D(50, 50, init_T=0)"
   ]
  },
  {
   "cell_type": "markdown",
   "metadata": {},
   "source": [
    "Performing a simulation can be done directly with the simulate method. The number of sweeps to be performed must be supplied as well as the temperature of the simulation. In the call below, we perform 1000 sweeps at T=5. We then plot the magnetization and energy per site as a function of sweeps performed. In order to re-run the simulation, the lattice must be reset - this can be done by calling the initialize function explicitly (although this is also done during object creation). "
   ]
  },
  {
   "cell_type": "code",
   "execution_count": 31,
   "metadata": {},
   "outputs": [
    {
     "data": {
      "image/png": "[encoded data removed]",
      "text/plain": [
       "<matplotlib.figure.Figure at 0x11b801358>"
      ]
     },
     "metadata": {},
     "output_type": "display_data"
    }
   ],
   "source": [
    "lat.initialize(init_T = 0)\n",
    "lat.simulate(num_sweeps=100, T=5)\n",
    "lat.plot_mag_energy_per_site()"
   ]
  },
  {
   "cell_type": "markdown",
   "metadata": {},
   "source": [
    "To evaluate the autocorrelation function, we call either autocorrelate_mag or autocorrelate_energy after simulation. It is important to make sure that the simulation has been run for significantly longer than the last sweep for which you'd like to calculate the autocorrelation. For example, in the snippet below, we simulate for 50,000 sweeps and then only plot the autocorrelation for the first 800 sweeps. "
   ]
  },
  {
   "cell_type": "code",
   "execution_count": 37,
   "metadata": {},
   "outputs": [
    {
     "data": {
      "image/png": "[encoded data removed]",
      "text/plain": [
       "<matplotlib.figure.Figure at 0x11b7fbf60>"
      ]
     },
     "metadata": {},
     "output_type": "display_data"
    }
   ],
   "source": [
    "lat.initialize(init_T = 0)\n",
    "lat.simulate(num_sweeps=50000, T=2.4)\n",
    "lat.autocorrelate_mag(800)"
   ]
  }
 ],
 "metadata": {
  "kernelspec": {
   "display_name": "Python 3",
   "language": "python",
   "name": "python3"
  },
  "language_info": {
   "codemirror_mode": {
    "name": "ipython",
    "version": 3
   },
   "file_extension": ".py",
   "mimetype": "text/x-python",
   "name": "python",
   "nbconvert_exporter": "python",
   "pygments_lexer": "ipython3",
   "version": "3.6.3"
  }
 },
 "nbformat": 4,
 "nbformat_minor": 2
}
